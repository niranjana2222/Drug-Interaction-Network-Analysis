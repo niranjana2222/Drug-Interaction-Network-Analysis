{
  "nbformat": 4,
  "nbformat_minor": 0,
  "metadata": {
    "colab": {
      "provenance": [],
      "authorship_tag": "ABX9TyPOnsHo4aCBVi9azcwjUiBp",
      "include_colab_link": true
    },
    "kernelspec": {
      "name": "python3",
      "display_name": "Python 3"
    },
    "language_info": {
      "name": "python"
    }
  },
  "cells": [
    {
      "cell_type": "markdown",
      "metadata": {
        "id": "view-in-github",
        "colab_type": "text"
      },
      "source": [
        "<a href=\"https://colab.research.google.com/github/niranjana2222/Drug-Interaction-Network-Analysis/blob/main/Drug_Interaction_Network_Analysis.ipynb\" target=\"_parent\"><img src=\"https://colab.research.google.com/assets/colab-badge.svg\" alt=\"Open In Colab\"/></a>"
      ]
    },
    {
      "cell_type": "code",
      "execution_count": 5,
      "metadata": {
        "colab": {
          "base_uri": "https://localhost:8080/"
        },
        "id": "x4jqwxdM3QMn",
        "outputId": "7a3ff196-b7c3-4fb4-c68f-0910956f7c8a"
      },
      "outputs": [
        {
          "output_type": "stream",
          "name": "stdout",
          "text": [
            "Looking in indexes: https://pypi.org/simple, https://us-python.pkg.dev/colab-wheels/public/simple/\n",
            "Collecting selenium\n",
            "  Downloading selenium-4.8.0-py3-none-any.whl (6.3 MB)\n",
            "\u001b[2K     \u001b[90m━━━━━━━━━━━━━━━━━━━━━━━━━━━━━━━━━━━━━━━━\u001b[0m \u001b[32m6.3/6.3 MB\u001b[0m \u001b[31m75.0 MB/s\u001b[0m eta \u001b[36m0:00:00\u001b[0m\n",
            "\u001b[?25hRequirement already satisfied: certifi>=2021.10.8 in /usr/local/lib/python3.8/dist-packages (from selenium) (2022.12.7)\n",
            "Collecting urllib3[socks]~=1.26\n",
            "  Downloading urllib3-1.26.14-py2.py3-none-any.whl (140 kB)\n",
            "\u001b[2K     \u001b[90m━━━━━━━━━━━━━━━━━━━━━━━━━━━━━━━━━━━━━━\u001b[0m \u001b[32m140.6/140.6 KB\u001b[0m \u001b[31m14.5 MB/s\u001b[0m eta \u001b[36m0:00:00\u001b[0m\n",
            "\u001b[?25hCollecting trio-websocket~=0.9\n",
            "  Downloading trio_websocket-0.9.2-py3-none-any.whl (16 kB)\n",
            "Collecting trio~=0.17\n",
            "  Downloading trio-0.22.0-py3-none-any.whl (384 kB)\n",
            "\u001b[2K     \u001b[90m━━━━━━━━━━━━━━━━━━━━━━━━━━━━━━━━━━━━━━\u001b[0m \u001b[32m384.9/384.9 KB\u001b[0m \u001b[31m37.2 MB/s\u001b[0m eta \u001b[36m0:00:00\u001b[0m\n",
            "\u001b[?25hRequirement already satisfied: attrs>=19.2.0 in /usr/local/lib/python3.8/dist-packages (from trio~=0.17->selenium) (22.2.0)\n",
            "Collecting async-generator>=1.9\n",
            "  Downloading async_generator-1.10-py3-none-any.whl (18 kB)\n",
            "Collecting exceptiongroup>=1.0.0rc9\n",
            "  Downloading exceptiongroup-1.1.0-py3-none-any.whl (14 kB)\n",
            "Collecting outcome\n",
            "  Downloading outcome-1.2.0-py2.py3-none-any.whl (9.7 kB)\n",
            "Collecting sniffio\n",
            "  Downloading sniffio-1.3.0-py3-none-any.whl (10 kB)\n",
            "Requirement already satisfied: sortedcontainers in /usr/local/lib/python3.8/dist-packages (from trio~=0.17->selenium) (2.4.0)\n",
            "Requirement already satisfied: idna in /usr/local/lib/python3.8/dist-packages (from trio~=0.17->selenium) (2.10)\n",
            "Collecting wsproto>=0.14\n",
            "  Downloading wsproto-1.2.0-py3-none-any.whl (24 kB)\n",
            "Requirement already satisfied: PySocks!=1.5.7,<2.0,>=1.5.6 in /usr/local/lib/python3.8/dist-packages (from urllib3[socks]~=1.26->selenium) (1.7.1)\n",
            "Collecting h11<1,>=0.9.0\n",
            "  Downloading h11-0.14.0-py3-none-any.whl (58 kB)\n",
            "\u001b[2K     \u001b[90m━━━━━━━━━━━━━━━━━━━━━━━━━━━━━━━━━━━━━━━━\u001b[0m \u001b[32m58.3/58.3 KB\u001b[0m \u001b[31m6.8 MB/s\u001b[0m eta \u001b[36m0:00:00\u001b[0m\n",
            "\u001b[?25hInstalling collected packages: urllib3, sniffio, outcome, h11, exceptiongroup, async-generator, wsproto, trio, trio-websocket, selenium\n",
            "  Attempting uninstall: urllib3\n",
            "    Found existing installation: urllib3 1.24.3\n",
            "    Uninstalling urllib3-1.24.3:\n",
            "      Successfully uninstalled urllib3-1.24.3\n",
            "Successfully installed async-generator-1.10 exceptiongroup-1.1.0 h11-0.14.0 outcome-1.2.0 selenium-4.8.0 sniffio-1.3.0 trio-0.22.0 trio-websocket-0.9.2 urllib3-1.26.14 wsproto-1.2.0\n"
          ]
        }
      ],
      "source": [
        "import pandas as pd\n",
        "import numpy as np\n",
        "import re\n",
        "import zipfile\n",
        "import json\n",
        "!pip3 install selenium \n",
        "\n",
        "import urllib\n",
        "from selenium import webdriver\n",
        "from selenium.common.exceptions import NoSuchElementException\n",
        "from selenium.common.exceptions import ElementClickInterceptedException\n",
        "from selenium.webdriver.common.by import By\n",
        "from selenium.webdriver.support.ui import WebDriverWait\n",
        "from selenium.webdriver.support import expected_conditions as EC\n",
        "from selenium.webdriver.common.action_chains import ActionChains"
      ]
    },
    {
      "cell_type": "code",
      "source": [
        "# read data\n",
        "zip_files_list = os.listdir('data')\n",
        "\n",
        "for file in zip_files_list:\n",
        "    with zipfile.ZipFile(f'data/{file}', 'r') as zip_ref:\n",
        "        zip_ref.extractall('data')\n",
        "\n",
        "os.listdir('data')"
      ],
      "metadata": {
        "id": "9wGD-nVl4XiX"
      },
      "execution_count": null,
      "outputs": []
    },
    {
      "cell_type": "code",
      "source": [
        "with open('data/DB_mapping.json', 'r') as fp:\n",
        "    db_mapping = json.load(fp)\n",
        "\n",
        "# Import raw drugbank dataset\n",
        "df_db_int = pd.read_csv(\"data/ChCh-Miner_durgbank-chem-chem.tsv\", sep='\\t', header=None)\n",
        "df_db_int.columns = ['drug_1_code', 'drug_2_code']\n",
        "\n",
        "# Perform code-name mapping\n",
        "df_db_int['drug_1_name'] = df_db_int['drug_1_code'].map(db_mapping)\n",
        "df_db_int['drug_2_name'] = df_db_int['drug_2_code'].map(db_mapping)\n",
        "\n",
        "# Clean data \n",
        "df_db_int = df_db_int[~df_db_int['drug_1_name'].isin(['This record has been revoked'])]\n",
        "df_db_int = df_db_int[~df_db_int['drug_2_name'].isin(['This record has been revoked'])]\n",
        "\n",
        "# Rename columns\n",
        "new_cols = ['drug_1_code', 'drug_1_name', 'drug_2_code', 'drug_2_name']\n",
        "df_db_int = df_db_int[new_cols]\n",
        "df_db_int.head()"
      ],
      "metadata": {
        "id": "0-gv8owJ4YE-"
      },
      "execution_count": null,
      "outputs": []
    },
    {
      "cell_type": "code",
      "source": [
        "df_db_int['weight'] = 1\n",
        "\n",
        "# Keep only drug name columns\n",
        "df_db_int = df_db_int[['drug_1_name', 'drug_2_name', 'weight']]\n",
        "df_db_int.head()"
      ],
      "metadata": {
        "id": "4sBt6CnL4zJR"
      },
      "execution_count": null,
      "outputs": []
    },
    {
      "cell_type": "code",
      "source": [
        "G = nx.from_pandas_edgelist(df_db_int, 'drug_1_name', 'drug_2_name')\n",
        "\n",
        "# Give the graph a name\n",
        "G.name = 'Drug Interactions Network'\n",
        "\n",
        "# Check whether graph is directed or undirected (False = undirected)\n",
        "print(G.is_directed())\n",
        "\n",
        "# Obtain general information of graph\n",
        "print(nx.info(G))\n",
        "\n",
        "# Get graph density\n",
        "density = nx.density(G)\n",
        "print(\"Network density:\", density)"
      ],
      "metadata": {
        "id": "Wdu_OqfA44EK"
      },
      "execution_count": null,
      "outputs": []
    },
    {
      "cell_type": "code",
      "source": [
        "degree_dict = dict(G.degree(G.nodes()))\n",
        "nx.set_node_attributes(G, degree_dict, 'degree')\n",
        "\n",
        "# Generate sorted list of tuples of drug entity and corresponding degree\n",
        "sorted_degree = sorted(degree_dict.items(), key=itemgetter(1), reverse=True)\n",
        "\n",
        "print(\"Top 20 drugs by degree:\")\n",
        "for d in sorted_degree[:20]:\n",
        "    print(d)"
      ],
      "metadata": {
        "id": "lDR9GY-B5As2"
      },
      "execution_count": null,
      "outputs": []
    },
    {
      "cell_type": "code",
      "source": [
        "sorted_degree_values = [pair[1] for pair in sorted_degree]\n",
        "\n",
        "# Set fixed bin size\n",
        "bins = np.arange(0, 450, 2) # fixed bin size\n",
        "\n",
        "# Plot histogram\n",
        "plt.xlim([min(sorted_degree_values)-15, max(sorted_degree_values)+15])\n",
        "plt.hist(sorted_degree_values, bins=bins, alpha=0.5)\n",
        "plt.title('Node degree distribution (fixed bin size)')\n",
        "plt.xlabel('degree')\n",
        "plt.ylabel('count')\n",
        "plt.show()"
      ],
      "metadata": {
        "id": "9kAw47WJ5BUO"
      },
      "execution_count": null,
      "outputs": []
    },
    {
      "cell_type": "code",
      "source": [
        "degree_centrality = nx.degree_centrality(G)\n",
        "degree_centrality = dict(sorted(degree_centrality.items(), key=lambda item: i"
      ],
      "metadata": {
        "id": "U-2kYa0E5Dxd"
      },
      "execution_count": null,
      "outputs": []
    },
    {
      "cell_type": "code",
      "source": [
        "def generate_network_viz(df, source_col, target_col, weights, \n",
        "                         layout='barnes_hut',\n",
        "                         central_gravity=0.15,\n",
        "                         node_distance=420,\n",
        "                         spring_length=100,\n",
        "                         spring_strength=0.15,\n",
        "                         damping=0.96\n",
        "                         ):\n",
        "    \n",
        "    # Generate a networkx graph\n",
        "    G = nx.from_pandas_edgelist(df, source_col, target_col, weights)\n",
        "    \n",
        "    if layout == 'repulsion':\n",
        "        bgcolor, font_color = '#222222', 'white'\n",
        "    else:\n",
        "        bgcolor, font_color = 'white', 'black'\n",
        "    \n",
        "    # Initiate PyVis network object\n",
        "    drug_net = Network(\n",
        "                       height='700px', \n",
        "                       width='100%',\n",
        "                       bgcolor=bgcolor, \n",
        "                       font_color=font_color, \n",
        "                       notebook=True\n",
        "                      )\n",
        "    \n",
        "    # Take Networkx graph and translate it to a PyVis graph format\n",
        "    drug_net.from_nx(G)\n",
        "    \n",
        "    # Create different network layout (repulsion or Barnes Hut)\n",
        "    if layout == 'repulsion':\n",
        "        drug_net.repulsion(\n",
        "                            node_distance=node_distance, \n",
        "                            central_gravity=central_gravity, \n",
        "                            spring_length=spring_length, \n",
        "                            spring_strength=spring_strength, \n",
        "                            damping=damping\n",
        "                           )"
      ],
      "metadata": {
        "id": "NhGYyzEA5HKG"
      },
      "execution_count": null,
      "outputs": []
    },
    {
      "cell_type": "code",
      "source": [
        "# Define list of oral medications for the common diseases\n",
        "dm_meds = ['Metformin', 'Linagliptin', 'Sitagliptin', 'Glibenclamide', 'Gliclazide',\n",
        "          'Glimepiride', 'Glipizide', 'Tolbutamide', 'Canagliflozin', 'Dapagliflozin',\n",
        "          'Empagliflozin', 'Dapagliflozin', 'Acarbose', 'Liraglutide']\n",
        "\n",
        "cardio_meds = ['Captopril', 'Enalapril', 'Lisinopril', 'Perindopril', 'Irbesartan',\n",
        "               'Losartan', 'Telmisartan', 'Valsartan', 'Candesartan', 'Atenolol', \n",
        "               'Bisoprolol', 'Carvedilol', 'Propranolol', 'Amlodipine', 'Diltiazem', \n",
        "               'Nifedipine', 'Verapamil', 'Bumetanide', 'Frusemide', 'Isosorbide',\n",
        "               'Hydrochlorothiazide', 'Spironolactone', 'Isosorbide Dinitrate', \n",
        "               'Isosorbide Mononitrate', 'Aspirin', 'Clopidogrel', 'Ticagrelor', \n",
        "               'Atorvastatin', 'Rosuvastatin', 'Simvastatin', 'Pravastatin']  \n",
        "\n",
        "# List of meds with the most interactions\n",
        "subset_meds_1 = ['Phenytoin', 'Mifepristone', 'Paroxetine']\n",
        "\n",
        "# Sample drugs for diabetes (Metformin), hyperlipidemia (Simvastatin), and hypertension (Lisinopril)\n",
        "subset_meds_2 = ['Metformin', 'Simvastatin', 'Lisinopril']"
      ],
      "metadata": {
        "id": "92HMJQ5o5O-G"
      },
      "execution_count": null,
      "outputs": []
    },
    {
      "cell_type": "code",
      "source": [
        "# Generate a networkx graph based on subset data\n",
        "db_subset_net = generate_network_viz(df_db_int_sm, 'drug_1_name', 'drug_2_name', 'weight', layout='repulsion')\n",
        "\n",
        "# Display interactive graph\n",
        "db_subset_net.show('drug_interactions_network_subset_repulsion.html')"
      ],
      "metadata": {
        "id": "uTvK7jho5SnW"
      },
      "execution_count": null,
      "outputs": []
    },
    {
      "cell_type": "code",
      "source": [
        "# Generate a networkx graph based on subset data\n",
        "db_subset_net_barnes = generate_network_viz(df_db_int_sm, 'drug_1_name', 'drug_2_name', 'weight', layout='barnes')\n",
        "db_subset_net_barnes.show('drug_interactions_network_subset_barnes.html')\n"
      ],
      "metadata": {
        "id": "M97fwnl15X85"
      },
      "execution_count": null,
      "outputs": []
    }
  ]
}